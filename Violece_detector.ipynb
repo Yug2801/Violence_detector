{
  "nbformat": 4,
  "nbformat_minor": 0,
  "metadata": {
    "colab": {
      "provenance": []
    },
    "kernelspec": {
      "name": "python3",
      "display_name": "Python 3"
    },
    "language_info": {
      "name": "python"
    }
  },
  "cells": [
    {
      "cell_type": "markdown",
      "source": [
        "# **PREPROCESSING**"
      ],
      "metadata": {
        "id": "_SskucibxI8r"
      }
    },
    {
      "cell_type": "code",
      "execution_count": null,
      "metadata": {
        "id": "J9ep6TJytvYK"
      },
      "outputs": [],
      "source": [
        "import numpy as np\n",
        "import pandas as pd\n",
        "import os"
      ]
    },
    {
      "cell_type": "code",
      "source": [],
      "metadata": {
        "id": "bE2sunKqt-M_"
      },
      "execution_count": null,
      "outputs": []
    },
    {
      "cell_type": "code",
      "source": [
        "from google.colab import drive\n",
        "drive.mount('/content/drive')"
      ],
      "metadata": {
        "id": "itVV2YLlt-Wa"
      },
      "execution_count": null,
      "outputs": []
    },
    {
      "cell_type": "code",
      "source": [
        "%ls"
      ],
      "metadata": {
        "id": "i4ZfnM5vuBtm"
      },
      "execution_count": null,
      "outputs": []
    },
    {
      "cell_type": "code",
      "source": [
        "%cd /content/drive/MyDrive/Dataset"
      ],
      "metadata": {
        "id": "6hiZYhsYuGZs"
      },
      "execution_count": null,
      "outputs": []
    },
    {
      "cell_type": "code",
      "source": [
        "import cv2\n",
        "import os\n",
        "import sys\n",
        "import glob\n",
        "from tqdm import tqdm"
      ],
      "metadata": {
        "id": "QN1icnTSuOk1"
      },
      "execution_count": null,
      "outputs": []
    },
    {
      "cell_type": "code",
      "source": [
        "PATH_violence = \"/content/drive/MyDrive/Dataset/Violence\""
      ],
      "metadata": {
        "id": "t7HKR-aIvrDV"
      },
      "execution_count": null,
      "outputs": []
    },
    {
      "cell_type": "code",
      "source": [
        "PATH_nonviolence = \"/content/drive/MyDrive/Dataset/NonViolence\""
      ],
      "metadata": {
        "id": "ucS32vM4vsPV"
      },
      "execution_count": null,
      "outputs": []
    },
    {
      "cell_type": "markdown",
      "source": [
        "**Frame selection**"
      ],
      "metadata": {
        "id": "_kImqDRcxh0D"
      }
    },
    {
      "cell_type": "code",
      "source": [
        "os.makedirs('./data/Violence1',exist_ok=True)\n",
        "\n",
        "for path in tqdm(glob.glob(PATH_violence + '/*')):\n",
        "    fname = os.path.basename(path).split('.')[0]\n",
        "    vidcap = cv2.VideoCapture(path)\n",
        "    success, image = vidcap.read()\n",
        "    count = 0\n",
        "    while success:\n",
        "        if count % 10 == 0:\n",
        "            cv2.imwrite(\"./data/Violence/{}-{}.jpg\".format(fname, str(count).zfill(4)), image)  # save frame as JPEG file\n",
        "        success, image = vidcap.read()\n",
        "        count += 1"
      ],
      "metadata": {
        "id": "FXzDEM0svx2D"
      },
      "execution_count": null,
      "outputs": []
    },
    {
      "cell_type": "code",
      "source": [
        "os.makedirs('./data/NonViolence1',exist_ok=True)\n",
        "for path in tqdm(glob.glob(PATH_nonviolence+'/*')):\n",
        "    fname = os.path.basename(path).split('.')[0]\n",
        "    vidcap = cv2.VideoCapture(path)\n",
        "    success,image = vidcap.read()\n",
        "    count = 0\n",
        "    while success:\n",
        "        if count % 10 == 0:\n",
        "            cv2.imwrite(\"./data/NonViolence/{}-{}.jpg\".format(fname,str(count).zfill(4)),image)     # save frame as JPEG file\n",
        "        success,image = vidcap.read()\n",
        "        count += 1"
      ],
      "metadata": {
        "id": "MVM_2nSpvy0C"
      },
      "execution_count": null,
      "outputs": []
    },
    {
      "cell_type": "code",
      "source": [
        "from keras.preprocessing.image import ImageDataGenerator\n",
        "\n",
        "from keras.layers import AveragePooling2D\n",
        "from imutils import paths\n",
        "from keras.utils import to_categorical\n",
        "from sklearn.preprocessing import LabelBinarizer\n"
      ],
      "metadata": {
        "id": "GeEPd29mwqkZ"
      },
      "execution_count": null,
      "outputs": []
    },
    {
      "cell_type": "markdown",
      "source": [
        "**Frame resizing**"
      ],
      "metadata": {
        "id": "HgKjbYnsx1AS"
      }
    },
    {
      "cell_type": "code",
      "source": [
        "print('-'*100)\n",
        "print(\"[INFO] loading images...\")\n",
        "print('-'*100)\n",
        "imagePaths = list(paths.list_images(args[\"dataset\"]))\n",
        "data = []\n",
        "labels = []"
      ],
      "metadata": {
        "id": "BRLqtXz5v2Hx"
      },
      "execution_count": null,
      "outputs": []
    },
    {
      "cell_type": "markdown",
      "source": [],
      "metadata": {
        "id": "sLylTpAqx0Hv"
      }
    },
    {
      "cell_type": "code",
      "source": [
        "for imagePath in tqdm(imagePaths[::]):\n",
        "    label = imagePath.split(os.path.sep)[-2]\n",
        "    if label not in LABELS:\n",
        "        continue\n",
        "\n",
        "    image = cv2.imread(imagePath)\n",
        "    image = cv2.cvtColor(image, cv2.COLOR_BGR2RGB)\n",
        "    image = cv2.resize(image, (224, 224))\n",
        "\n",
        "    data.append(image)\n",
        "    labels.append(label)"
      ],
      "metadata": {
        "id": "W2mp90ZFv-E6"
      },
      "execution_count": null,
      "outputs": []
    },
    {
      "cell_type": "code",
      "source": [
        "lb = LabelBinarizer()\n",
        "labels = lb.fit_transform(labels)\n",
        "labels = to_categorical(labels)"
      ],
      "metadata": {
        "id": "74-dqu97v_EJ"
      },
      "execution_count": null,
      "outputs": []
    },
    {
      "cell_type": "markdown",
      "source": [
        "**Frame augmentation**"
      ],
      "metadata": {
        "id": "tS7OwqB8x9MV"
      }
    },
    {
      "cell_type": "code",
      "source": [
        "trainAug = ImageDataGenerator(\n",
        "    rotation_range=30,\n",
        "    zoom_range=0.15,\n",
        "    width_shift_range=0.2,\n",
        "    height_shift_range=0.2,\n",
        "    shear_range=0.15,\n",
        "    horizontal_flip=True,\n",
        "    fill_mode=\"nearest\")"
      ],
      "metadata": {
        "id": "bR-RuzLCwHch"
      },
      "execution_count": null,
      "outputs": []
    },
    {
      "cell_type": "code",
      "source": [
        "valAug = ImageDataGenerator()"
      ],
      "metadata": {
        "id": "ip9vM8o8wSZV"
      },
      "execution_count": null,
      "outputs": []
    }
  ]
}